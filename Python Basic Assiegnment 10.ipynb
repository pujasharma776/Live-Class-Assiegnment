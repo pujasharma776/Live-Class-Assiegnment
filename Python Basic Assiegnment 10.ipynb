{
 "cells": [
  {
   "cell_type": "markdown",
   "id": "46b6030c",
   "metadata": {},
   "source": [
    "# Python Basic Assiegnment 10"
   ]
  },
  {
   "cell_type": "markdown",
   "id": "b6dbd194",
   "metadata": {},
   "source": [
    "## 1. How do you distinguish between shutil.copy() and shutil.copytree()?"
   ]
  },
  {
   "cell_type": "markdown",
   "id": "9083da30",
   "metadata": {},
   "source": [
    "Ans. shutil.copy : Copies a single file\n",
    "shutil.copytree() : will copy an entire folder and every folder and file contained in it"
   ]
  },
  {
   "cell_type": "markdown",
   "id": "763d10a6",
   "metadata": {},
   "source": [
    "## 2. What function is used to rename files??"
   ]
  },
  {
   "cell_type": "markdown",
   "id": "3a699617",
   "metadata": {},
   "source": [
    "Ans. import os\n",
    "os.rename(\"text.txt\",\"testnew.txt\")"
   ]
  },
  {
   "cell_type": "markdown",
   "id": "76f9f73d",
   "metadata": {},
   "source": [
    "## 3. What is the difference between the delete functions in the send2trash and shutil modules?"
   ]
  },
  {
   "cell_type": "markdown",
   "id": "c086c006",
   "metadata": {},
   "source": [
    "Ans. import shutil\n",
    "shutil.retree(): The shutil module’s rmtree() function can be used to delete files or folders. But, this function delete the files permanently. The operations cannot be undone if there were any accidental deletions performed\n",
    "\n",
    "import send2trash\n",
    "\n",
    "send2trash.send2trash() : Using send2trash, we can send files to the Trash or Recycle Bin instead of permanently\n",
    "\n",
    "deleting them. If the directory contains files or other folders, those are also deleted. A TrashPermissionError exception is raised, in case a file could not be deleted due to permission error or any other unexpected reason.\n",
    "\n"
   ]
  },
  {
   "cell_type": "markdown",
   "id": "564db1ba",
   "metadata": {},
   "source": [
    "## 4.ZipFile objects have a close() method just like File objects’ close() method. What ZipFile method is\n",
    "equivalent to File objects’ open() method?"
   ]
  },
  {
   "cell_type": "markdown",
   "id": "40685924",
   "metadata": {},
   "source": [
    "Ans. from zipfile import Zipfile\n",
    "with ZipFile(file_name, 'r') as zip: -> this code will open specified zipfile for us. we can use zip object to preform other operation the ziplife. like zip.read()"
   ]
  },
  {
   "cell_type": "raw",
   "id": "b0ba272b",
   "metadata": {},
   "source": [
    "from zipfile import Zipfile\n",
    "with ZipFile(file_name, 'r') as zip"
   ]
  },
  {
   "cell_type": "markdown",
   "id": "ce717384",
   "metadata": {},
   "source": [
    "## 5. Create a programme that searches a folder tree for files with a certain file extension (such as .pdf"
   ]
  },
  {
   "cell_type": "code",
   "execution_count": null,
   "id": "5d923982",
   "metadata": {},
   "outputs": [],
   "source": [
    "# Write a program that walks through a folder tree \n",
    "# and searches for files with a certain file extension (such as .pdf or .jpg).\n",
    "# Copy these files from whatever location they are in to a new folder.\n",
    "\n",
    "import os, shutil\n",
    "\n",
    "def selectiveCopy(source, extensions, destination):\n",
    "    folder = os.path.abspath(source)\n",
    "    destination = os.path.abspath(destination)\n",
    "    print('Looking in', source, 'for files with extensions of', ', '.join(extensions))\n",
    "    for foldername, subfolders, filenames in os.walk(source):\n",
    "        for filename in filenames:\n",
    "            name, extension = os.path.splitext(filename)\n",
    "            if extension in extensions:\n",
    "                fileAbsPath = foldername + os.path.sep + filename\n",
    "                print('Coping', fileAbsPath, 'to', destination)\n",
    "                shutil.copy(fileAbsPath, destination)\n",
    "\n",
    "extensions = ['.mp4', '.pdf','.jpg']\n",
    "source = \"C:\\Users\\Shiva000\\Desktop\"\n",
    "destination = \"C:\\Users\\Shiva000\\Desktop\\abc\"\n",
    "selectiveCopy(source, extensions, destination)"
   ]
  }
 ],
 "metadata": {
  "kernelspec": {
   "display_name": "Python 3 (ipykernel)",
   "language": "python",
   "name": "python3"
  },
  "language_info": {
   "codemirror_mode": {
    "name": "ipython",
    "version": 3
   },
   "file_extension": ".py",
   "mimetype": "text/x-python",
   "name": "python",
   "nbconvert_exporter": "python",
   "pygments_lexer": "ipython3",
   "version": "3.10.7"
  }
 },
 "nbformat": 4,
 "nbformat_minor": 5
}

{
 "cells": [
  {
   "cell_type": "markdown",
   "id": "c35b069c",
   "metadata": {},
   "source": [
    "# PYTHON STRING ASSIENMENT"
   ]
  },
  {
   "cell_type": "markdown",
   "id": "1479e92c",
   "metadata": {},
   "source": [
    "### QNO.1. What is indentation error? Why indentation is important? Give one simple example?\n"
   ]
  },
  {
   "cell_type": "code",
   "execution_count": null,
   "id": "fc34bde6",
   "metadata": {},
   "outputs": [],
   "source": [
    "Ans:-The indentation error can occur when the spaces or tabs are not placed properly. There will not be an issue if the interpreter does not find any issues with the spaces or tabs. If there is an error due to indentation, it will come in between the execution and can be a show stopper.Indentation refers to the spaces at the beginning of a code line.\n",
    "\n",
    "Where in other programming languages the indentation in code is for readability only, the indentation in Python is very important.\n",
    "\n",
    "Python uses indentation to indicate a block of code.\n",
    "\n",
    "\n",
    "    \n",
    "    Indentation, the much-maligned formatting technique, provides readers with a sense of continuity. Indentations signal to the reader that she is about to dive into another topic or start a new section of a novel. They help present content in a logical fashion.\n",
    "    \n",
    "    EXAMPLE;-\n",
    "            if 5 > 2:\n",
    " print(\"Five is greater than two!\") \n",
    "if 5 > 2:\n",
    "        print(\"Five is greater than two!\") \n",
    "    \n",
    "    "
   ]
  },
  {
   "cell_type": "markdown",
   "id": "81414f36",
   "metadata": {},
   "source": [
    "### QNO.2.Correct the following code and write the comment where you made the correction?"
   ]
  },
  {
   "cell_type": "code",
   "execution_count": null,
   "id": "d263a115",
   "metadata": {},
   "outputs": [],
   "source": [
    "class_started = bool(input(\"Hey friend, is class started?: [''-False/1-True]\"))\n",
    "\n",
    "#All input valuewhen converted to Boolean considered as True except empty string\n",
    "\n",
    "if class_started:\n",
    "   print(\"Since class started...\")\n",
    "   print(\"Lets concentrate\")\n",
    "else:\n",
    "   print(\"Since class is not started...\")\n",
    "   print(\"let's revise\")"
   ]
  },
  {
   "cell_type": "markdown",
   "id": "52b8fc38",
   "metadata": {},
   "source": [
    "### QNO.3.Use if else condition to verify that dataype of `input()` method in python is always string."
   ]
  },
  {
   "cell_type": "code",
   "execution_count": null,
   "id": "52798c22",
   "metadata": {},
   "outputs": [],
   "source": [
    "var=input(\"Enter value\")\n",
    "if isinstance(var,str):\n",
    "    print(\"Provided Input value's class is String\")\n",
    "\n",
    "else :\n",
    "    print(\"Provided Input value's class is Not String\")"
   ]
  },
  {
   "cell_type": "markdown",
   "id": "2aaa3681",
   "metadata": {},
   "source": [
    "### QNO.4. Take 3 variables and assign integer values to them. Find the largest variable, by only using the if and else conditions.\n"
   ]
  },
  {
   "cell_type": "code",
   "execution_count": null,
   "id": "9f9c2eed",
   "metadata": {},
   "outputs": [],
   "source": [
    "Ans:- var1=int(input(\"enter value 1 : \"))\n",
    "var2=int(input(\"enter value 2 : \"))\n",
    "var3=int(input(\"enter value 3 : \"))\n",
    "print(var1)\n",
    "print(var2)\n",
    "print(var3)\n",
    "if var1>var2 :\n",
    "\n",
    "    if var1>var3:\n",
    "        print(\"Largest value is : \"+str(var1))\n",
    "    else :\n",
    "        print(\"largest value is : \"+str(var3))\n",
    "\n",
    "else:\n",
    "    if var2>var3:\n",
    "        print(\"Largest value is : \"+str(var2))\n",
    "    else :\n",
    "        print(\"largest value is : \"+str(var3))\n"
   ]
  },
  {
   "cell_type": "markdown",
   "id": "d2834fbd",
   "metadata": {},
   "source": [
    "### QNO.5.What would be the solution?\n",
    "    1. True\n",
    "    2. False\n",
    "\n",
    "    ```python\n",
    "    a = 6\n",
    "    b = 10\n",
    "    print( not ( not a == 10 or not b == 10) )\n",
    "    ```"
   ]
  },
  {
   "cell_type": "code",
   "execution_count": null,
   "id": "66fc6883",
   "metadata": {},
   "outputs": [],
   "source": [
    "Ans:- output is False"
   ]
  },
  {
   "cell_type": "markdown",
   "id": "a2db6245",
   "metadata": {},
   "source": [
    "### QNO.6.Find the answer as well as find out the reason behind the result? -\n",
    "    - case 1:\n",
    "         ```python\n",
    "        A = 5.0\n",
    "        B = 10/2\n",
    "        print(A is B)\n",
    "        ```\n",
    "    - case 2:\n",
    "        ```python\n",
    "        A = 5.0\n",
    "        B = int(10/2)\n",
    "        print(A is B)\n",
    "        ```\n",
    "    - case 3:\n",
    "        ```python\n",
    "        A = 5.0\n",
    "        B = float(10/2)\n",
    "        print(A is B)\n",
    "        ```"
   ]
  },
  {
   "cell_type": "code",
   "execution_count": null,
   "id": "4bb59861",
   "metadata": {},
   "outputs": [],
   "source": [
    "Ans:-\n",
    "case 1 : TRUE\n",
    "        because B will have the reminder of the true division i.e. 5.0 hence it is True\n",
    "Case 2 : FALSE\n",
    "    because since we have extracted only the interger part so B will be 5 hence A is not Equal to B.\n",
    "\n",
    "case 3 : TRUE\n",
    "    because float will assign the value along with decimal i.e. B will be 5.0 hence it is equal to A. "
   ]
  },
  {
   "cell_type": "markdown",
   "id": "4a99c944",
   "metadata": {},
   "source": [
    "### QNO.7.Write a program that asks the user to enter a number. You should print out a message to the user, either “That number is divisible by either 3 or 5”, or “That number is not divisible by either 3 or 5”. Be sure to consider the data type of the input you are taking in from the user. Use a single if/else block to solve this problem.\n",
    "\n"
   ]
  },
  {
   "cell_type": "code",
   "execution_count": 1,
   "id": "69b24787",
   "metadata": {},
   "outputs": [
    {
     "ename": "KeyboardInterrupt",
     "evalue": "Interrupted by user",
     "output_type": "error",
     "traceback": [
      "\u001b[1;31m---------------------------------------------------------------------------\u001b[0m",
      "\u001b[1;31mKeyboardInterrupt\u001b[0m                         Traceback (most recent call last)",
      "Cell \u001b[1;32mIn [1], line 1\u001b[0m\n\u001b[1;32m----> 1\u001b[0m val1\u001b[38;5;241m=\u001b[39m\u001b[38;5;28mint\u001b[39m(\u001b[38;5;28minput\u001b[39m(\u001b[38;5;124m\"\u001b[39m\u001b[38;5;124mEnter the number\u001b[39m\u001b[38;5;124m\"\u001b[39m))\n\u001b[0;32m      2\u001b[0m \u001b[38;5;28;01mif\u001b[39;00m val1\u001b[38;5;241m/\u001b[39m\u001b[38;5;241m3\u001b[39m\u001b[38;5;241m==\u001b[39m\u001b[38;5;241m1\u001b[39m \u001b[38;5;129;01mor\u001b[39;00m val1\u001b[38;5;241m/\u001b[39m\u001b[38;5;241m5\u001b[39m\u001b[38;5;241m==\u001b[39m\u001b[38;5;241m1\u001b[39m :\n\u001b[0;32m      3\u001b[0m     \u001b[38;5;28mprint\u001b[39m(\u001b[38;5;124m\"\u001b[39m\u001b[38;5;124mNumber is divisble by either 3 or 5\u001b[39m\u001b[38;5;124m\"\u001b[39m)\n",
      "File \u001b[1;32m~\\AppData\\Local\\Programs\\Python\\Python310\\lib\\site-packages\\ipykernel\\kernelbase.py:1177\u001b[0m, in \u001b[0;36mKernel.raw_input\u001b[1;34m(self, prompt)\u001b[0m\n\u001b[0;32m   1173\u001b[0m \u001b[38;5;28;01mif\u001b[39;00m \u001b[38;5;129;01mnot\u001b[39;00m \u001b[38;5;28mself\u001b[39m\u001b[38;5;241m.\u001b[39m_allow_stdin:\n\u001b[0;32m   1174\u001b[0m     \u001b[38;5;28;01mraise\u001b[39;00m StdinNotImplementedError(\n\u001b[0;32m   1175\u001b[0m         \u001b[38;5;124m\"\u001b[39m\u001b[38;5;124mraw_input was called, but this frontend does not support input requests.\u001b[39m\u001b[38;5;124m\"\u001b[39m\n\u001b[0;32m   1176\u001b[0m     )\n\u001b[1;32m-> 1177\u001b[0m \u001b[38;5;28;01mreturn\u001b[39;00m \u001b[38;5;28;43mself\u001b[39;49m\u001b[38;5;241;43m.\u001b[39;49m\u001b[43m_input_request\u001b[49m\u001b[43m(\u001b[49m\n\u001b[0;32m   1178\u001b[0m \u001b[43m    \u001b[49m\u001b[38;5;28;43mstr\u001b[39;49m\u001b[43m(\u001b[49m\u001b[43mprompt\u001b[49m\u001b[43m)\u001b[49m\u001b[43m,\u001b[49m\n\u001b[0;32m   1179\u001b[0m \u001b[43m    \u001b[49m\u001b[38;5;28;43mself\u001b[39;49m\u001b[38;5;241;43m.\u001b[39;49m\u001b[43m_parent_ident\u001b[49m\u001b[43m[\u001b[49m\u001b[38;5;124;43m\"\u001b[39;49m\u001b[38;5;124;43mshell\u001b[39;49m\u001b[38;5;124;43m\"\u001b[39;49m\u001b[43m]\u001b[49m\u001b[43m,\u001b[49m\n\u001b[0;32m   1180\u001b[0m \u001b[43m    \u001b[49m\u001b[38;5;28;43mself\u001b[39;49m\u001b[38;5;241;43m.\u001b[39;49m\u001b[43mget_parent\u001b[49m\u001b[43m(\u001b[49m\u001b[38;5;124;43m\"\u001b[39;49m\u001b[38;5;124;43mshell\u001b[39;49m\u001b[38;5;124;43m\"\u001b[39;49m\u001b[43m)\u001b[49m\u001b[43m,\u001b[49m\n\u001b[0;32m   1181\u001b[0m \u001b[43m    \u001b[49m\u001b[43mpassword\u001b[49m\u001b[38;5;241;43m=\u001b[39;49m\u001b[38;5;28;43;01mFalse\u001b[39;49;00m\u001b[43m,\u001b[49m\n\u001b[0;32m   1182\u001b[0m \u001b[43m\u001b[49m\u001b[43m)\u001b[49m\n",
      "File \u001b[1;32m~\\AppData\\Local\\Programs\\Python\\Python310\\lib\\site-packages\\ipykernel\\kernelbase.py:1219\u001b[0m, in \u001b[0;36mKernel._input_request\u001b[1;34m(self, prompt, ident, parent, password)\u001b[0m\n\u001b[0;32m   1216\u001b[0m             \u001b[38;5;28;01mbreak\u001b[39;00m\n\u001b[0;32m   1217\u001b[0m \u001b[38;5;28;01mexcept\u001b[39;00m \u001b[38;5;167;01mKeyboardInterrupt\u001b[39;00m:\n\u001b[0;32m   1218\u001b[0m     \u001b[38;5;66;03m# re-raise KeyboardInterrupt, to truncate traceback\u001b[39;00m\n\u001b[1;32m-> 1219\u001b[0m     \u001b[38;5;28;01mraise\u001b[39;00m \u001b[38;5;167;01mKeyboardInterrupt\u001b[39;00m(\u001b[38;5;124m\"\u001b[39m\u001b[38;5;124mInterrupted by user\u001b[39m\u001b[38;5;124m\"\u001b[39m) \u001b[38;5;28;01mfrom\u001b[39;00m \u001b[38;5;28mNone\u001b[39m\n\u001b[0;32m   1220\u001b[0m \u001b[38;5;28;01mexcept\u001b[39;00m \u001b[38;5;167;01mException\u001b[39;00m:\n\u001b[0;32m   1221\u001b[0m     \u001b[38;5;28mself\u001b[39m\u001b[38;5;241m.\u001b[39mlog\u001b[38;5;241m.\u001b[39mwarning(\u001b[38;5;124m\"\u001b[39m\u001b[38;5;124mInvalid Message:\u001b[39m\u001b[38;5;124m\"\u001b[39m, exc_info\u001b[38;5;241m=\u001b[39m\u001b[38;5;28;01mTrue\u001b[39;00m)\n",
      "\u001b[1;31mKeyboardInterrupt\u001b[0m: Interrupted by user"
     ]
    }
   ],
   "source": [
    "ANS:-val1=int(input(\"Enter the number\"))\n",
    "if val1/3==1 or val1/5==1 :\n",
    "    print(\"Number is divisble by either 3 or 5\")\n",
    "else :\n",
    "     print(\"Number is not divisble by either 3 or 5\")"
   ]
  },
  {
   "cell_type": "markdown",
   "id": "d871c156",
   "metadata": {},
   "source": [
    "### QNO.8. Take user input for length and width. Then calculate the area of rectangle. Also print as per length and width whether its a square of rectangle.\n"
   ]
  },
  {
   "cell_type": "code",
   "execution_count": null,
   "id": "afb3fdc6",
   "metadata": {},
   "outputs": [],
   "source": [
    "Ans:-length=int(input(\"Enter the Length\"))\n",
    "width=int(input(\"Enter the Width\"))\n",
    "if(length==width):\n",
    "    print(\"It is a Square of Rectangle\")\n",
    "\n",
    "area=length*width;\n",
    "print(\"Area of the Rectangle is :\"+str(area))"
   ]
  },
  {
   "cell_type": "markdown",
   "id": "9dc09417",
   "metadata": {},
   "source": [
    "### QNO.9.Take two variable radius_1 and radius_2 and calculate the area of circle_1 and circle_2. Also print which circle has large area. If area is equal then print area is equal."
   ]
  },
  {
   "cell_type": "code",
   "execution_count": null,
   "id": "bacf3d9d",
   "metadata": {},
   "outputs": [],
   "source": [
    "Ans:- rad1=int(input(\"Enter the Radius of 1st circle\"))\n",
    "rad2=int(input(\"Enter the Radius of 2nd circle\"))\n",
    "\n",
    "circle1Area=3.14*(rad1*rad1);\n",
    "circle2Area=3.14*(rad2*rad2);\n",
    "if(circle1Area>circle2Area) :\n",
    "    print(\"Larger Area is of the circle1 : \"+str(circle1Area))\n",
    "else :\n",
    "     print(\"Larger Area is of the circle2 : \"+str(circle2Area))\n",
    "\n",
    "\n",
    "if(circle1Area==circle2Area) :\n",
    "    print(\"Area of both the circles are Equal\")\n"
   ]
  },
  {
   "cell_type": "markdown",
   "id": "73c54dd6",
   "metadata": {},
   "source": [
    "### QNO.10. Check whether a year is leap year or not. Use nested if...else to solve this problem. A leap year is exactly divisible by 4 except for century years (years ending with 00). The century year is a leap year only if it is perfectly divisible by 400."
   ]
  },
  {
   "cell_type": "code",
   "execution_count": null,
   "id": "c8b8ecf5",
   "metadata": {},
   "outputs": [],
   "source": [
    "Ans:- year=int(input(\"Enter the year\"))\n",
    "if year/4==1:\n",
    "    print(\"This is a Leap Year : \"+str(year))\n",
    "else:\n",
    "    if year/400==1:\n",
    "        print(\"This is a Leap Year : \"+str(year))\n",
    "    else :\n",
    "        print(\"This is a Not Leap Year : \"+str(year))\n",
    "\n"
   ]
  }
 ],
 "metadata": {
  "kernelspec": {
   "display_name": "Python 3 (ipykernel)",
   "language": "python",
   "name": "python3"
  },
  "language_info": {
   "codemirror_mode": {
    "name": "ipython",
    "version": 3
   },
   "file_extension": ".py",
   "mimetype": "text/x-python",
   "name": "python",
   "nbconvert_exporter": "python",
   "pygments_lexer": "ipython3",
   "version": "3.10.7"
  }
 },
 "nbformat": 4,
 "nbformat_minor": 5
}

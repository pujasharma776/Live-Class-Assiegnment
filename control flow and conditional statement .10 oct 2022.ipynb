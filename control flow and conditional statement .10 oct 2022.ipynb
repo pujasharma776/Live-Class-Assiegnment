{
 "cells": [
  {
   "cell_type": "markdown",
   "id": "c666de45",
   "metadata": {},
   "source": [
    "## CONTROL FLOW AND CONDITIONAL STATEMENTS ASSIEGNMENT (10/10/22)"
   ]
  },
  {
   "cell_type": "markdown",
   "id": "c36c2464",
   "metadata": {},
   "source": [
    "### Q.1. Find the largest number from the given list, use for loop.\n",
    "\n",
    "1.List item\n",
    "\n",
    "2.List item\n",
    "\n",
    "3.List item\n",
    "\n",
    "List item\n",
    "numbers = [12, 75, 150, 180, 145, 525, 50]"
   ]
  },
  {
   "cell_type": "code",
   "execution_count": null,
   "id": "70031988",
   "metadata": {},
   "outputs": [],
   "source": [
    "lst = []\n",
    "\n",
    "# number of elements as input\n",
    "n = int(input(\"Enter number of elements : \"))\n",
    "\n",
    "# iterating till the range\n",
    "for i in range(0, n):\n",
    "    ele = int(input())\n",
    "\n",
    "    lst.append(ele) # adding the element\n",
    "\n",
    "print(\"largest number is : \"+str(max(lst)))"
   ]
  },
  {
   "cell_type": "markdown",
   "id": "1b0f618e",
   "metadata": {},
   "source": [
    "### Q2. Print all the even number between (1, 12)."
   ]
  },
  {
   "cell_type": "code",
   "execution_count": null,
   "id": "0f140153",
   "metadata": {},
   "outputs": [],
   "source": [
    "n = 12\n",
    "for i in range(1, n):\n",
    "    if(i%2==0):{\n",
    "     print(i)\n",
    "    }"
   ]
  },
  {
   "cell_type": "markdown",
   "id": "7a3aae7a",
   "metadata": {},
   "source": [
    "### Q3. Calculate the sum of all numbers from 1 to a given number\n",
    "\n",
    "Expected Output:\n",
    "\n",
    "Enter number 10\n",
    "\n",
    "Sum is:  55"
   ]
  },
  {
   "cell_type": "code",
   "execution_count": null,
   "id": "61866f28",
   "metadata": {},
   "outputs": [],
   "source": [
    " = int(input(\"Enter number till where sum is required : \"))\n",
    "\n",
    "# iterating till the range\n",
    "sum=0\n",
    "for i in range(1,n+1,1):\n",
    "    sum=sum+i\n",
    "\n",
    "print(\"Sum is : \"+str(sum))"
   ]
  },
  {
   "cell_type": "markdown",
   "id": "6bbd7cbe",
   "metadata": {},
   "source": [
    "### Q4. Write a program to display only those numbers from a list that satisfy the following conditions\n",
    "\n",
    ".The number must be divisible by five\n",
    "\n",
    ".If the number is greater than 150, then skip it and move to the next number\n",
    "\n",
    ".If the number is greater than 500, then stop the loop"
   ]
  },
  {
   "cell_type": "code",
   "execution_count": null,
   "id": "33ef6944",
   "metadata": {
    "scrolled": true
   },
   "outputs": [],
   "source": [
    "for number in num:\n",
    "    if number 5 % 5 ==0:\n",
    "       print(number)"
   ]
  },
  {
   "cell_type": "code",
   "execution_count": null,
   "id": "d4e7221e",
   "metadata": {},
   "outputs": [],
   "source": [
    "for i in num:\n",
    "    if i > 150:\n",
    "        print(i)\n",
    "        break\n",
    "            "
   ]
  },
  {
   "cell_type": "code",
   "execution_count": null,
   "id": "d775d905",
   "metadata": {
    "scrolled": true
   },
   "outputs": [],
   "source": [
    "for i in num:\n",
    "    if i>500\n",
    "    print(num[0:5])"
   ]
  },
  {
   "cell_type": "markdown",
   "id": "db074e9c",
   "metadata": {},
   "source": [
    "### Q5. Print the given list in reverse order.\n",
    "\n",
    "list1 = [10, 20, 30, 40, 50]"
   ]
  },
  {
   "cell_type": "code",
   "execution_count": null,
   "id": "f2ec0f7e",
   "metadata": {},
   "outputs": [],
   "source": [
    " n = int(input(\"Enter the range : \"))\n",
    "lst = []\n",
    "# iterating till the range\n",
    "for i in range(0, n):\n",
    "    ele = int(input())\n",
    "\n",
    "    lst.append(ele) # adding the element\n",
    "\n",
    "\n",
    "# iterate to reverse the list\n",
    "l=[]\n",
    "for i in lst:\n",
    "    # reversing the list\n",
    "    l.insert(0, i)\n",
    "# printing result\n",
    "print(l)"
   ]
  }
 ],
 "metadata": {
  "kernelspec": {
   "display_name": "Python 3 (ipykernel)",
   "language": "python",
   "name": "python3"
  },
  "language_info": {
   "codemirror_mode": {
    "name": "ipython",
    "version": 3
   },
   "file_extension": ".py",
   "mimetype": "text/x-python",
   "name": "python",
   "nbconvert_exporter": "python",
   "pygments_lexer": "ipython3",
   "version": "3.10.7"
  }
 },
 "nbformat": 4,
 "nbformat_minor": 5
}

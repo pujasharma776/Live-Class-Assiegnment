{
 "cells": [
  {
   "cell_type": "markdown",
   "id": "9ea10ca5",
   "metadata": {},
   "source": [
    "# Python Basic Assignment 9"
   ]
  },
  {
   "cell_type": "markdown",
   "id": "3a2e678f",
   "metadata": {},
   "source": [
    "## 1. To what does a relative path refer?"
   ]
  },
  {
   "cell_type": "markdown",
   "id": "6ae79c6a",
   "metadata": {},
   "source": [
    " Ans;-Relative paths are relative to the current working directory."
   ]
  },
  {
   "cell_type": "markdown",
   "id": "2be3a7d7",
   "metadata": {},
   "source": [
    "## 2. What does an absolute path start with your operating system?"
   ]
  },
  {
   "cell_type": "markdown",
   "id": "af8c5d03",
   "metadata": {},
   "source": [
    "Ans:-Absolute paths start with the root folder, such as / or C:. An absolute path always contains the root elements and the complete list of directories to locate the specific file or folder. All the information required to locate the file or folder is available in the absolute path."
   ]
  },
  {
   "cell_type": "markdown",
   "id": "d005e55c",
   "metadata": {},
   "source": [
    "## 3. What do the functions os.getcwd() and os.chdir() do?"
   ]
  },
  {
   "cell_type": "markdown",
   "id": "84987932",
   "metadata": {},
   "source": [
    "Ans:- The os.getcwd() function returns the current working directory. The os.chdir() function changes the current working directory."
   ]
  },
  {
   "cell_type": "markdown",
   "id": "dd077513",
   "metadata": {},
   "source": [
    "## 4. What are the . and .. folders?"
   ]
  },
  {
   "cell_type": "markdown",
   "id": "328478d1",
   "metadata": {},
   "source": [
    "Ans:- The . folder is the current folder, and .. is the parent folder."
   ]
  },
  {
   "cell_type": "markdown",
   "id": "99525d8c",
   "metadata": {},
   "source": [
    "## 5. In C:\\bacon\\eggs\\spam.txt, which part is the dir name, and which part is the base name?"
   ]
  },
  {
   "cell_type": "markdown",
   "id": "adf3d61b",
   "metadata": {},
   "source": [
    "Ans:-C:\\bacon\\eggs is the dir name, while spam.txt is the base name."
   ]
  },
  {
   "cell_type": "markdown",
   "id": "9990638c",
   "metadata": {},
   "source": [
    "## 6. What are the three “mode” arguments that can be passed to the open() function?"
   ]
  },
  {
   "cell_type": "markdown",
   "id": "87c171e6",
   "metadata": {},
   "source": [
    "Ans:- The string 'r' for read mode, 'w' for write mode, and 'a' for append mode"
   ]
  },
  {
   "cell_type": "markdown",
   "id": "99b4ae32",
   "metadata": {},
   "source": [
    "## 7. What happens if an existing file is opened in write mode?"
   ]
  },
  {
   "cell_type": "markdown",
   "id": "7aeca66d",
   "metadata": {},
   "source": [
    "Ans:- An existing file opened in write mode is erased and completely overwritten."
   ]
  },
  {
   "cell_type": "markdown",
   "id": "f3e1209f",
   "metadata": {},
   "source": [
    "## 8. How do you tell the difference between read() and readlines()?"
   ]
  },
  {
   "cell_type": "markdown",
   "id": "ba4e9ec9",
   "metadata": {},
   "source": [
    "Ans:-The read() method returns the file's entire contents as a single string value. The readlines() method returns a list of strings, where each string is a line from the file's contents."
   ]
  },
  {
   "cell_type": "markdown",
   "id": "2af07b17",
   "metadata": {},
   "source": [
    "## 9. What data structure does a shelf value resemble?"
   ]
  },
  {
   "cell_type": "markdown",
   "id": "c9222673",
   "metadata": {},
   "source": [
    "Ans:-A shelf value resembles a dictionary value; it has keys and values, along with keys() and values() methods that work similarly to the dictionary methods of the same names."
   ]
  },
  {
   "cell_type": "code",
   "execution_count": null,
   "id": "9e6a666a",
   "metadata": {},
   "outputs": [],
   "source": []
  }
 ],
 "metadata": {
  "kernelspec": {
   "display_name": "Python 3 (ipykernel)",
   "language": "python",
   "name": "python3"
  },
  "language_info": {
   "codemirror_mode": {
    "name": "ipython",
    "version": 3
   },
   "file_extension": ".py",
   "mimetype": "text/x-python",
   "name": "python",
   "nbconvert_exporter": "python",
   "pygments_lexer": "ipython3",
   "version": "3.10.7"
  }
 },
 "nbformat": 4,
 "nbformat_minor": 5
}

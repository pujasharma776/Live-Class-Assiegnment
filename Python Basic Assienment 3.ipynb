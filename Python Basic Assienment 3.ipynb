{
 "cells": [
  {
   "cell_type": "markdown",
   "id": "4edfffbf",
   "metadata": {},
   "source": [
    "# Python Basic Assienment 3"
   ]
  },
  {
   "cell_type": "markdown",
   "id": "8a432e08",
   "metadata": {},
   "source": [
    "## 1. Why are functions advantageous to have in your programs?"
   ]
  },
  {
   "cell_type": "markdown",
   "id": "177d0d32",
   "metadata": {},
   "source": [
    " Ans;-Functions reduce the need for duplicate code. This makes programs shorter, easier to read, and easier to update.\n",
    "Python gives you many built-in functions like print(), etc. but you can also create your own functions. "
   ]
  },
  {
   "cell_type": "markdown",
   "id": "cad68609",
   "metadata": {},
   "source": [
    "## 2. When does the code in a function run: when it&#39;s specified or when it&#39;s called?"
   ]
  },
  {
   "cell_type": "markdown",
   "id": "352901f4",
   "metadata": {},
   "source": [
    "Ans;-The code in a function executes when the function is called, not when the function is defined. Function calls contain the name of the function being executed followed by a list of values, called arguments, which are assigned to the parameters in the function definition."
   ]
  },
  {
   "cell_type": "markdown",
   "id": "9765acc3",
   "metadata": {},
   "source": [
    "## 3. What statement creates a function?"
   ]
  },
  {
   "cell_type": "markdown",
   "id": "43491a3c",
   "metadata": {},
   "source": [
    "Ans:-In Python, you define a function with the def keyword, then write the function identifier (name) followed by parentheses and a colon"
   ]
  },
  {
   "cell_type": "markdown",
   "id": "f41bd73f",
   "metadata": {},
   "source": [
    "## 4. What is the difference between a function and a function call?"
   ]
  },
  {
   "cell_type": "markdown",
   "id": "c77a6ceb",
   "metadata": {},
   "source": [
    "Ans;-A function consists of the def statement and the code in its def clause. A function call is what moves the program execution into the function, and the function call evaluates to the function's return value."
   ]
  },
  {
   "cell_type": "markdown",
   "id": "e368908b",
   "metadata": {},
   "source": [
    "## 5. How many global scopes are there in a Python program? How many local scopes?"
   ]
  },
  {
   "cell_type": "markdown",
   "id": "59162c7e",
   "metadata": {},
   "source": [
    " Ans:-There's only one global Python scope per program execution. This scope remains in existence until the program terminates and all its names are forgotten. Otherwise, the next time you were to run the program, the names would remember their values from the previous run."
   ]
  },
  {
   "cell_type": "markdown",
   "id": "2231faad",
   "metadata": {},
   "source": [
    "## 6. What happens to variables in a local scope when the function call returns?"
   ]
  },
  {
   "cell_type": "markdown",
   "id": "3b86d963",
   "metadata": {},
   "source": [
    "Ans:-When a function returns, it's local variables are “popped off” the stack. "
   ]
  },
  {
   "cell_type": "markdown",
   "id": "77705e9a",
   "metadata": {},
   "source": [
    "## 7. What is the concept of a return value? Is it possible to have a return value in an expression?"
   ]
  },
  {
   "cell_type": "markdown",
   "id": "2e17ca8a",
   "metadata": {},
   "source": [
    "Ans;-A return value is the value that a function call evaluates to. Like any value, a return value can be used as part of an expression."
   ]
  },
  {
   "cell_type": "markdown",
   "id": "c37a5cfc",
   "metadata": {},
   "source": [
    "## 8. If a function does not have a return statement, what is the return value of a call to that function?"
   ]
  },
  {
   "cell_type": "markdown",
   "id": "9d87a62d",
   "metadata": {},
   "source": [
    "Ans:-If there is no return statement for a function, its return value is None."
   ]
  },
  {
   "cell_type": "markdown",
   "id": "92ddad09",
   "metadata": {},
   "source": [
    "## 9. How do you make a function variable refer to the global variable?"
   ]
  },
  {
   "cell_type": "markdown",
   "id": "d563874b",
   "metadata": {},
   "source": [
    "Ans;-If we want to refer to a global variable in a function, we can use the global keyword to declare which variables are global."
   ]
  },
  {
   "cell_type": "markdown",
   "id": "68401420",
   "metadata": {},
   "source": [
    "## 10. What is the data type of None?"
   ]
  },
  {
   "cell_type": "markdown",
   "id": "c066071e",
   "metadata": {},
   "source": [
    "Ans;-Python uses None in place of null. It's used to specify a null value or absolutely no value. None is different from null in many aspects, but it shares some functionalities with null in other languages. None is distinct from 0 (zero), False (zero), and an empty string."
   ]
  },
  {
   "cell_type": "markdown",
   "id": "052e97b8",
   "metadata": {},
   "source": [
    "## 11. What does the sentence import areallyourpetsnamederic do?"
   ]
  },
  {
   "cell_type": "markdown",
   "id": "d8dbc31c",
   "metadata": {},
   "source": [
    "Ans;-That import statement imports a module named areallyourpetsnamederic."
   ]
  },
  {
   "cell_type": "markdown",
   "id": "b623be31",
   "metadata": {},
   "source": [
    "## 12. If you had a bacon() feature in a spam module, what would you call it after importing spam?"
   ]
  },
  {
   "cell_type": "markdown",
   "id": "a57dda29",
   "metadata": {},
   "source": [
    "Ans;-This function can be called with spam. bacon()."
   ]
  },
  {
   "cell_type": "markdown",
   "id": "673c9cb6",
   "metadata": {},
   "source": [
    "## 13. What can you do to save a programme from crashing if it encounters an error?"
   ]
  },
  {
   "cell_type": "markdown",
   "id": "278524c8",
   "metadata": {},
   "source": [
    "Ans- Place the line of code that might cause an error in a try clause."
   ]
  },
  {
   "cell_type": "markdown",
   "id": "fd317fcf",
   "metadata": {},
   "source": [
    "## 14. What is the purpose of the try clause? What is the purpose of the except clause?"
   ]
  },
  {
   "cell_type": "markdown",
   "id": "5d1bad57",
   "metadata": {},
   "source": [
    "Ans:-The code that could potentially cause an error goes in the try clause.\n",
    "\n",
    "-The code that executes if an error happens goes in the except clause."
   ]
  },
  {
   "cell_type": "code",
   "execution_count": null,
   "id": "7e02531b",
   "metadata": {},
   "outputs": [],
   "source": []
  }
 ],
 "metadata": {
  "kernelspec": {
   "display_name": "Python 3 (ipykernel)",
   "language": "python",
   "name": "python3"
  },
  "language_info": {
   "codemirror_mode": {
    "name": "ipython",
    "version": 3
   },
   "file_extension": ".py",
   "mimetype": "text/x-python",
   "name": "python",
   "nbconvert_exporter": "python",
   "pygments_lexer": "ipython3",
   "version": "3.10.7"
  }
 },
 "nbformat": 4,
 "nbformat_minor": 5
}
